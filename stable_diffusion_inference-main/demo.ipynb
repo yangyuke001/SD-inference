{
 "cells": [
  {
   "cell_type": "code",
   "execution_count": 1,
   "metadata": {},
   "outputs": [],
   "source": [
    "from stable_diffusion_inference import create_text2image"
   ]
  },
  {
   "cell_type": "code",
   "execution_count": null,
   "metadata": {},
   "outputs": [],
   "source": [
    "text2image = create_text2image(\"sd1\", accelerator=\"cpu\")\n",
    "\n",
    "image = text2image(\"cats in hats\", image_size=512, inference_steps=50, accelerator=\"cpu\")\n",
    "image.save(\"cats in hats.png\")"
   ]
  }
 ],
 "metadata": {
  "kernelspec": {
   "display_name": "Python 3.9.15 ('am')",
   "language": "python",
   "name": "python3"
  },
  "language_info": {
   "codemirror_mode": {
    "name": "ipython",
    "version": 3
   },
   "file_extension": ".py",
   "mimetype": "text/x-python",
   "name": "python",
   "nbconvert_exporter": "python",
   "pygments_lexer": "ipython3",
   "version": "3.9.15"
  },
  "orig_nbformat": 4,
  "vscode": {
   "interpreter": {
    "hash": "6f5e423fee33b31e95495641e8bb9dfcef11a964767922f3f3bc86005d167fd1"
   }
  }
 },
 "nbformat": 4,
 "nbformat_minor": 2
}
